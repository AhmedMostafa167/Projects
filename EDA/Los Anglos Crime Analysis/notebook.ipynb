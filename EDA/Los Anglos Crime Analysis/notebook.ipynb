{
 "cells": [
  {
   "cell_type": "markdown",
   "id": "31ab2131-3049-4d8d-b9dc-d195f72af27a",
   "metadata": {},
   "source": [
    "![Los Angeles skyline](la_skyline.jpg)\n",
    "\n",
    "Los Angeles, California 😎. The City of Angels. Tinseltown. The Entertainment Capital of the World! \n",
    "\n",
    "Known for its warm weather, palm trees, sprawling coastline, and Hollywood, along with producing some of the most iconic films and songs. However, as with any highly populated city, it isn't always glamorous and there can be a large volume of crime. That's where you can help!\n",
    "\n",
    "You have been asked to support the Los Angeles Police Department (LAPD) by analyzing crime data to identify patterns in criminal behavior. They plan to use your insights to allocate resources effectively to tackle various crimes in different areas.\n",
    "\n",
    "## The Data\n",
    "\n",
    "They have provided you with a single dataset to use. A summary and preview are provided below.\n",
    "\n",
    "It is a modified version of the original data, which is publicly available from Los Angeles Open Data.\n",
    "\n",
    "# crimes.csv\n",
    "\n",
    "| Column     | Description              |\n",
    "|------------|--------------------------|\n",
    "| `'DR_NO'` | Division of Records Number: Official file number made up of a 2-digit year, area ID, and 5 digits. |\n",
    "| `'Date Rptd'` | Date reported - MM/DD/YYYY. |\n",
    "| `'DATE OCC'` | Date of occurrence - MM/DD/YYYY. |\n",
    "| `'TIME OCC'` | In 24-hour military time. |\n",
    "| `'AREA NAME'` | The 21 Geographic Areas or Patrol Divisions are also given a name designation that references a landmark or the surrounding community that it is responsible for. For example, the 77th Street Division is located at the intersection of South Broadway and 77th Street, serving neighborhoods in South Los Angeles. |\n",
    "| `'Crm Cd Desc'` | Indicates the crime committed. |\n",
    "| `'Vict Age'` | Victim's age in years. |\n",
    "| `'Vict Sex'` | Victim's sex: `F`: Female, `M`: Male, `X`: Unknown. |\n",
    "| `'Vict Descent'` | Victim's descent:<ul><li>`A` - Other Asian</li><li>`B` - Black</li><li>`C` - Chinese</li><li>`D` - Cambodian</li><li>`F` - Filipino</li><li>`G` - Guamanian</li><li>`H` - Hispanic/Latin/Mexican</li><li>`I` - American Indian/Alaskan Native</li><li>`J` - Japanese</li><li>`K` - Korean</li><li>`L` - Laotian</li><li>`O` - Other</li><li>`P` - Pacific Islander</li><li>`S` - Samoan</li><li>`U` - Hawaiian</li><li>`V` - Vietnamese</li><li>`W` - White</li><li>`X` - Unknown</li><li>`Z` - Asian Indian</li> |\n",
    "| `'Weapon Desc'` | Description of the weapon used (if applicable). |\n",
    "| `'Status Desc'` | Crime status. |\n",
    "| `'LOCATION'` | Street address of the crime. |"
   ]
  },
  {
   "cell_type": "markdown",
   "id": "25bbce5a-f0d2-40bb-9a11-0868f9dac23f",
   "metadata": {},
   "source": [
    "## In this EDA notebook I will try to answer three questions:\n",
    "1. Which hour has the highest frequency of crimes?\n",
    "2. Which area has the largest frequency of night crimes (crimes committed between 10pm and 3:59am)?\n",
    "3. What is the number of crimes committed against victims of different age groups?(groups:`0-17, 18-25, 26-34, 35-44, 45-54, 55-64, 65+`)"
   ]
  },
  {
   "cell_type": "code",
   "execution_count": 1,
   "id": "7c6c3c36-5c8b-4cce-8681-95292b8f0861",
   "metadata": {
    "chartConfig": {
     "bar": {
      "hasRoundedCorners": true,
      "stacked": false
     },
     "type": "bar",
     "version": "v1"
    },
    "executionCancelledAt": null,
    "executionTime": 325,
    "lastExecutedAt": 1715329828534,
    "lastExecutedByKernel": "139ca796-1764-4ad3-8cfd-6d95bdec1161",
    "lastScheduledRunId": null,
    "lastSuccessfullyExecutedCode": "# Re-run this cell\n# Import required libraries\nimport pandas as pd\nimport numpy as np\nimport matplotlib.pyplot as plt\nimport seaborn as sns\ncrimes = pd.read_csv(\"crimes.csv\", parse_dates=[\"Date Rptd\", \"DATE OCC\"], dtype={\"TIME OCC\": str})\ncrimes.head()",
    "outputsMetadata": {
     "0": {
      "columns": {
       "LOCATION": {
        "wrap": true
       }
      },
      "height": 351,
      "type": "dataFrame"
     }
    },
    "visualizeDataframe": false
   },
   "outputs": [
    {
     "data": {
      "text/html": [
       "<div>\n",
       "<style scoped>\n",
       "    .dataframe tbody tr th:only-of-type {\n",
       "        vertical-align: middle;\n",
       "    }\n",
       "\n",
       "    .dataframe tbody tr th {\n",
       "        vertical-align: top;\n",
       "    }\n",
       "\n",
       "    .dataframe thead th {\n",
       "        text-align: right;\n",
       "    }\n",
       "</style>\n",
       "<table border=\"1\" class=\"dataframe\">\n",
       "  <thead>\n",
       "    <tr style=\"text-align: right;\">\n",
       "      <th></th>\n",
       "      <th>DR_NO</th>\n",
       "      <th>Date Rptd</th>\n",
       "      <th>DATE OCC</th>\n",
       "      <th>TIME OCC</th>\n",
       "      <th>AREA NAME</th>\n",
       "      <th>Crm Cd Desc</th>\n",
       "      <th>Vict Age</th>\n",
       "      <th>Vict Sex</th>\n",
       "      <th>Vict Descent</th>\n",
       "      <th>Weapon Desc</th>\n",
       "      <th>Status Desc</th>\n",
       "      <th>LOCATION</th>\n",
       "    </tr>\n",
       "  </thead>\n",
       "  <tbody>\n",
       "    <tr>\n",
       "      <th>0</th>\n",
       "      <td>220314085</td>\n",
       "      <td>2022-07-22</td>\n",
       "      <td>2020-05-12</td>\n",
       "      <td>1110</td>\n",
       "      <td>Southwest</td>\n",
       "      <td>THEFT OF IDENTITY</td>\n",
       "      <td>27</td>\n",
       "      <td>F</td>\n",
       "      <td>B</td>\n",
       "      <td>NaN</td>\n",
       "      <td>Invest Cont</td>\n",
       "      <td>2500 S  SYCAMORE                     AV</td>\n",
       "    </tr>\n",
       "    <tr>\n",
       "      <th>1</th>\n",
       "      <td>222013040</td>\n",
       "      <td>2022-08-06</td>\n",
       "      <td>2020-06-04</td>\n",
       "      <td>1620</td>\n",
       "      <td>Olympic</td>\n",
       "      <td>THEFT OF IDENTITY</td>\n",
       "      <td>60</td>\n",
       "      <td>M</td>\n",
       "      <td>H</td>\n",
       "      <td>NaN</td>\n",
       "      <td>Invest Cont</td>\n",
       "      <td>3300    SAN MARINO                   ST</td>\n",
       "    </tr>\n",
       "    <tr>\n",
       "      <th>2</th>\n",
       "      <td>220614831</td>\n",
       "      <td>2022-08-18</td>\n",
       "      <td>2020-08-17</td>\n",
       "      <td>1200</td>\n",
       "      <td>Hollywood</td>\n",
       "      <td>THEFT OF IDENTITY</td>\n",
       "      <td>28</td>\n",
       "      <td>M</td>\n",
       "      <td>H</td>\n",
       "      <td>NaN</td>\n",
       "      <td>Invest Cont</td>\n",
       "      <td>1900    TRANSIENT</td>\n",
       "    </tr>\n",
       "    <tr>\n",
       "      <th>3</th>\n",
       "      <td>231207725</td>\n",
       "      <td>2023-02-27</td>\n",
       "      <td>2020-01-27</td>\n",
       "      <td>0635</td>\n",
       "      <td>77th Street</td>\n",
       "      <td>THEFT OF IDENTITY</td>\n",
       "      <td>37</td>\n",
       "      <td>M</td>\n",
       "      <td>H</td>\n",
       "      <td>NaN</td>\n",
       "      <td>Invest Cont</td>\n",
       "      <td>6200    4TH                          AV</td>\n",
       "    </tr>\n",
       "    <tr>\n",
       "      <th>4</th>\n",
       "      <td>220213256</td>\n",
       "      <td>2022-07-14</td>\n",
       "      <td>2020-07-14</td>\n",
       "      <td>0900</td>\n",
       "      <td>Rampart</td>\n",
       "      <td>THEFT OF IDENTITY</td>\n",
       "      <td>79</td>\n",
       "      <td>M</td>\n",
       "      <td>B</td>\n",
       "      <td>NaN</td>\n",
       "      <td>Invest Cont</td>\n",
       "      <td>1200 W  7TH                          ST</td>\n",
       "    </tr>\n",
       "  </tbody>\n",
       "</table>\n",
       "</div>"
      ],
      "text/plain": [
       "       DR_NO  Date Rptd   DATE OCC TIME OCC    AREA NAME        Crm Cd Desc  \\\n",
       "0  220314085 2022-07-22 2020-05-12     1110    Southwest  THEFT OF IDENTITY   \n",
       "1  222013040 2022-08-06 2020-06-04     1620      Olympic  THEFT OF IDENTITY   \n",
       "2  220614831 2022-08-18 2020-08-17     1200    Hollywood  THEFT OF IDENTITY   \n",
       "3  231207725 2023-02-27 2020-01-27     0635  77th Street  THEFT OF IDENTITY   \n",
       "4  220213256 2022-07-14 2020-07-14     0900      Rampart  THEFT OF IDENTITY   \n",
       "\n",
       "   Vict Age Vict Sex Vict Descent Weapon Desc  Status Desc  \\\n",
       "0        27        F            B         NaN  Invest Cont   \n",
       "1        60        M            H         NaN  Invest Cont   \n",
       "2        28        M            H         NaN  Invest Cont   \n",
       "3        37        M            H         NaN  Invest Cont   \n",
       "4        79        M            B         NaN  Invest Cont   \n",
       "\n",
       "                                  LOCATION  \n",
       "0  2500 S  SYCAMORE                     AV  \n",
       "1  3300    SAN MARINO                   ST  \n",
       "2                        1900    TRANSIENT  \n",
       "3  6200    4TH                          AV  \n",
       "4  1200 W  7TH                          ST  "
      ]
     },
     "execution_count": 1,
     "metadata": {},
     "output_type": "execute_result"
    }
   ],
   "source": [
    "# Import required libraries\n",
    "import pandas as pd\n",
    "import numpy as np\n",
    "import matplotlib.pyplot as plt\n",
    "import seaborn as sns\n",
    "crimes = pd.read_csv(\"crimes.csv\", parse_dates=[\"Date Rptd\", \"DATE OCC\"], dtype={\"TIME OCC\": str})\n",
    "crimes.head()"
   ]
  },
  {
   "cell_type": "code",
   "execution_count": 2,
   "id": "53eada96-447c-46c3-9848-f4ca3de53d06",
   "metadata": {
    "executionCancelledAt": null,
    "executionTime": 162,
    "lastExecutedAt": 1715329828696,
    "lastExecutedByKernel": "139ca796-1764-4ad3-8cfd-6d95bdec1161",
    "lastScheduledRunId": null,
    "lastSuccessfullyExecutedCode": "crimes.info()\n",
    "outputsMetadata": {
     "0": {
      "height": 416,
      "type": "stream"
     }
    }
   },
   "outputs": [
    {
     "name": "stdout",
     "output_type": "stream",
     "text": [
      "<class 'pandas.core.frame.DataFrame'>\n",
      "RangeIndex: 185715 entries, 0 to 185714\n",
      "Data columns (total 12 columns):\n",
      " #   Column        Non-Null Count   Dtype         \n",
      "---  ------        --------------   -----         \n",
      " 0   DR_NO         185715 non-null  int64         \n",
      " 1   Date Rptd     185715 non-null  datetime64[ns]\n",
      " 2   DATE OCC      185715 non-null  datetime64[ns]\n",
      " 3   TIME OCC      185715 non-null  object        \n",
      " 4   AREA NAME     185715 non-null  object        \n",
      " 5   Crm Cd Desc   185715 non-null  object        \n",
      " 6   Vict Age      185715 non-null  int64         \n",
      " 7   Vict Sex      185704 non-null  object        \n",
      " 8   Vict Descent  185705 non-null  object        \n",
      " 9   Weapon Desc   73502 non-null   object        \n",
      " 10  Status Desc   185715 non-null  object        \n",
      " 11  LOCATION      185715 non-null  object        \n",
      "dtypes: datetime64[ns](2), int64(2), object(8)\n",
      "memory usage: 17.0+ MB\n"
     ]
    }
   ],
   "source": [
    "crimes.info()\n"
   ]
  },
  {
   "cell_type": "code",
   "execution_count": 3,
   "id": "96186651-1677-4aa7-a83d-3f74d6f3a70b",
   "metadata": {
    "executionCancelledAt": null,
    "executionTime": 91,
    "lastExecutedAt": 1715329828787,
    "lastExecutedByKernel": "139ca796-1764-4ad3-8cfd-6d95bdec1161",
    "lastScheduledRunId": null,
    "lastSuccessfullyExecutedCode": "crimes['TIME OCC Hour'] = [int(time[:2]) for time in crimes[\"TIME OCC\"]]\nprint(crimes['TIME OCC Hour'])",
    "outputsMetadata": {
     "0": {
      "height": 269,
      "type": "stream"
     }
    }
   },
   "outputs": [
    {
     "name": "stdout",
     "output_type": "stream",
     "text": [
      "0         11\n",
      "1         16\n",
      "2         12\n",
      "3          6\n",
      "4          9\n",
      "          ..\n",
      "185710    11\n",
      "185711    18\n",
      "185712    10\n",
      "185713    16\n",
      "185714     9\n",
      "Name: TIME OCC Hour, Length: 185715, dtype: int64\n"
     ]
    }
   ],
   "source": [
    "crimes['TIME OCC Hour'] = [int(time[:2]) for time in crimes[\"TIME OCC\"]]\n",
    "print(crimes['TIME OCC Hour'])"
   ]
  },
  {
   "cell_type": "code",
   "execution_count": 4,
   "id": "34b974b5-ae5d-408c-a368-d8fc23451f5e",
   "metadata": {
    "executionCancelledAt": null,
    "executionTime": 322,
    "lastExecutedAt": 1715329829109,
    "lastExecutedByKernel": "139ca796-1764-4ad3-8cfd-6d95bdec1161",
    "lastScheduledRunId": null,
    "lastSuccessfullyExecutedCode": "sns.histplot(data= crimes, x= 'TIME OCC Hour')\nplt.title('Crime Occurance Hours Freqency')\nplt.show()"
   },
   "outputs": [
    {
     "data": {
      "image/png": "[encoded data removed]",
      "text/plain": [
       "<Figure size 640x480 with 1 Axes>"
      ]
     },
     "metadata": {},
     "output_type": "display_data"
    }
   ],
   "source": [
    "sns.histplot(data= crimes, x= 'TIME OCC Hour')\n",
    "plt.title('Crime Occurance Hours Freqency')\n",
    "plt.show()"
   ]
  },
  {
   "cell_type": "code",
   "execution_count": 5,
   "id": "81fd1ff1-1737-4b7a-9912-b6642001856e",
   "metadata": {
    "executionCancelledAt": null,
    "executionTime": 49,
    "lastExecutedAt": 1715329829158,
    "lastExecutedByKernel": "139ca796-1764-4ad3-8cfd-6d95bdec1161",
    "lastScheduledRunId": null,
    "lastSuccessfullyExecutedCode": "peak_crime_hour = 12"
   },
   "outputs": [],
   "source": [
    "peak_crime_hour = 12"
   ]
  },
  {
   "cell_type": "markdown",
   "id": "d050090a-6135-4c63-af80-2b2fcfcf004c",
   "metadata": {},
   "source": [
    "### 1- The hour with the peak crime frequency is `12PM`"
   ]
  },
  {
   "cell_type": "code",
   "execution_count": 6,
   "id": "fde6dc1a-bd2c-473a-98cd-d98cefbf3a91",
   "metadata": {
    "executionCancelledAt": null,
    "executionTime": 48,
    "lastExecutedAt": 1715329829254,
    "lastExecutedByKernel": "139ca796-1764-4ad3-8cfd-6d95bdec1161",
    "lastScheduledRunId": null,
    "lastSuccessfullyExecutedCode": "crimes[crimes['TIME OCC Hour'].isin([22, 23, 24, 0, 1, 2, 3])]['AREA NAME'].value_counts()",
    "outputsMetadata": {
     "0": {
      "height": 321,
      "type": "dataFrame"
     }
    }
   },
   "outputs": [
    {
     "data": {
      "text/plain": [
       "Central        3312\n",
       "Hollywood      2699\n",
       "77th Street    2558\n",
       "Southwest      2347\n",
       "Southeast      2218\n",
       "Newton         2142\n",
       "Olympic        2137\n",
       "Pacific        1916\n",
       "Rampart        1860\n",
       "N Hollywood    1855\n",
       "Wilshire       1716\n",
       "Northeast      1684\n",
       "Van Nuys       1629\n",
       "West Valley    1520\n",
       "Topanga        1461\n",
       "Mission        1453\n",
       "Harbor         1384\n",
       "West LA        1369\n",
       "Devonshire     1348\n",
       "Hollenbeck     1315\n",
       "Foothill       1260\n",
       "Name: AREA NAME, dtype: int64"
      ]
     },
     "execution_count": 6,
     "metadata": {},
     "output_type": "execute_result"
    }
   ],
   "source": [
    "crimes[crimes['TIME OCC Hour'].isin([22, 23, 24, 0, 1, 2, 3])]['AREA NAME'].value_counts()"
   ]
  },
  {
   "cell_type": "code",
   "execution_count": 7,
   "id": "556823a2-b20c-44d0-b979-cd0948c8aa81",
   "metadata": {
    "executionCancelledAt": null,
    "executionTime": 48,
    "lastExecutedAt": 1715329829302,
    "lastExecutedByKernel": "139ca796-1764-4ad3-8cfd-6d95bdec1161",
    "lastScheduledRunId": null,
    "lastSuccessfullyExecutedCode": "peak_night_crime_location = 'Central'"
   },
   "outputs": [],
   "source": [
    "peak_night_crime_location = 'Central'"
   ]
  },
  {
   "cell_type": "code",
   "execution_count": 8,
   "id": "e7798d9d-072f-4670-b342-ead4de845e25",
   "metadata": {
    "executionCancelledAt": null,
    "executionTime": 47,
    "lastExecutedAt": 1715329829206,
    "lastExecutedByKernel": "139ca796-1764-4ad3-8cfd-6d95bdec1161",
    "lastScheduledRunId": null,
    "lastSuccessfullyExecutedCode": "# crimes['TIME OCC'] = pd.to_datetime(crimes['TIME OCC'], format='%H%M')\n# crimes['crime hour'] = crimes['TIME OCC'].dt.hour\n# crimes[crimes['crime hour'].isin([22, 23, 24, 0, 1, 2, 3])]['AREA NAME'].value_counts()"
   },
   "outputs": [],
   "source": [
    "# this is another way to do this task\n",
    "# crimes['TIME OCC'] = pd.to_datetime(crimes['TIME OCC'], format='%H%M')\n",
    "# crimes['crime hour'] = crimes['TIME OCC'].dt.hour\n",
    "# crimes[crimes['crime hour'].isin([22, 23, 24, 0, 1, 2, 3])]['AREA NAME'].value_counts()"
   ]
  },
  {
   "cell_type": "markdown",
   "id": "e4cad4a6-e7e7-4695-876f-1db1fe1015ac",
   "metadata": {},
   "source": [
    "### 2- The Location with the Highest night crime frequency is `Central`"
   ]
  },
  {
   "cell_type": "code",
   "execution_count": 9,
   "id": "4dd2adfb-c6b3-4856-bf20-4121afdfa87b",
   "metadata": {
    "executionCancelledAt": null,
    "executionTime": 147,
    "lastExecutedAt": 1715329829449,
    "lastExecutedByKernel": "139ca796-1764-4ad3-8cfd-6d95bdec1161",
    "lastScheduledRunId": null,
    "lastSuccessfullyExecutedCode": "crimes['Vict Age']",
    "outputsMetadata": {
     "0": {
      "height": 321,
      "type": "dataFrame"
     }
    }
   },
   "outputs": [
    {
     "data": {
      "text/plain": [
       "0         27\n",
       "1         60\n",
       "2         28\n",
       "3         37\n",
       "4         79\n",
       "          ..\n",
       "185710    25\n",
       "185711    23\n",
       "185712    25\n",
       "185713    29\n",
       "185714    53\n",
       "Name: Vict Age, Length: 185715, dtype: int64"
      ]
     },
     "execution_count": 9,
     "metadata": {},
     "output_type": "execute_result"
    }
   ],
   "source": [
    "crimes['Vict Age']"
   ]
  },
  {
   "cell_type": "code",
   "execution_count": 10,
   "id": "fbbfdd4a-e1a7-4520-bfa1-5e4e922283a3",
   "metadata": {
    "executionCancelledAt": null,
    "executionTime": 49,
    "lastExecutedAt": 1715329829498,
    "lastExecutedByKernel": "139ca796-1764-4ad3-8cfd-6d95bdec1161",
    "lastScheduledRunId": null,
    "lastSuccessfullyExecutedCode": "labels = [\"0-17\", \"18-25\", \"26-34\", \"35-44\", \"45-54\", \"55-64\", \"65+\"]\nmax_age = crimes['Vict Age'].max()\nbins = [0, 17, 25, 34, 44, 54, 64, max_age]\ncrimes['victim_ages'] = pd.cut(crimes['Vict Age'], labels= labels, bins= bins)\nprint(crimes['victim_ages'])",
    "outputsMetadata": {
     "0": {
      "height": 290,
      "type": "stream"
     }
    }
   },
   "outputs": [
    {
     "name": "stdout",
     "output_type": "stream",
     "text": [
      "0         26-34\n",
      "1         55-64\n",
      "2         26-34\n",
      "3         35-44\n",
      "4           65+\n",
      "          ...  \n",
      "185710    18-25\n",
      "185711    18-25\n",
      "185712    18-25\n",
      "185713    26-34\n",
      "185714    45-54\n",
      "Name: victim_ages, Length: 185715, dtype: category\n",
      "Categories (7, object): ['0-17' < '18-25' < '26-34' < '35-44' < '45-54' < '55-64' < '65+']\n"
     ]
    }
   ],
   "source": [
    "labels = [\"0-17\", \"18-25\", \"26-34\", \"35-44\", \"45-54\", \"55-64\", \"65+\"]\n",
    "max_age = crimes['Vict Age'].max()\n",
    "bins = [0, 17, 25, 34, 44, 54, 64, max_age]\n",
    "crimes['victim_ages'] = pd.cut(crimes['Vict Age'], labels= labels, bins= bins)\n",
    "print(crimes['victim_ages'])"
   ]
  },
  {
   "cell_type": "markdown",
   "id": "f3edd285-3a2a-450c-b0d2-563cf2f333ca",
   "metadata": {},
   "source": [
    "### 3- the number of crimes committed against victims of different age groups are:- "
   ]
  },
  {
   "cell_type": "code",
   "execution_count": 11,
   "id": "abdcbbb1-651e-4c19-8da5-fba2851213cc",
   "metadata": {
    "executionCancelledAt": null,
    "executionTime": 48,
    "lastExecutedAt": 1715329829546,
    "lastExecutedByKernel": "139ca796-1764-4ad3-8cfd-6d95bdec1161",
    "lastScheduledRunId": null,
    "lastSuccessfullyExecutedCode": "victim_ages = crimes['victim_ages'].value_counts()\nvictim_ages",
    "outputsMetadata": {
     "0": {
      "height": 246,
      "type": "dataFrame"
     }
    }
   },
   "outputs": [
    {
     "data": {
      "text/plain": [
       "26-34    47470\n",
       "35-44    42157\n",
       "45-54    28353\n",
       "18-25    28291\n",
       "55-64    20169\n",
       "65+      14747\n",
       "0-17      4528\n",
       "Name: victim_ages, dtype: int64"
      ]
     },
     "execution_count": 11,
     "metadata": {},
     "output_type": "execute_result"
    }
   ],
   "source": [
    "victim_ages = crimes['victim_ages'].value_counts()\n",
    "victim_ages"
   ]
  }
 ],
 "metadata": {
  "colab": {
   "name": "Welcome to DataCamp Workspaces.ipynb",
   "provenance": []
  },
  "kernelspec": {
   "display_name": "Python 3 (ipykernel)",
   "language": "python",
   "name": "python3"
  },
  "language_info": {
   "codemirror_mode": {
    "name": "ipython",
    "version": 3
   },
   "file_extension": ".py",
   "mimetype": "text/x-python",
   "name": "python",
   "nbconvert_exporter": "python",
   "pygments_lexer": "ipython3",
   "version": "3.11.5"
  }
 },
 "nbformat": 4,
 "nbformat_minor": 5
}
